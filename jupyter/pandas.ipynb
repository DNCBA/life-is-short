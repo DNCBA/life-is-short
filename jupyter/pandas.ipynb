{
 "cells": [
  {
   "cell_type": "code",
   "execution_count": 12,
   "metadata": {},
   "outputs": [
    {
     "name": "stdout",
     "output_type": "stream",
     "text": [
      "[1 2 3 4]\n",
      "np_array_1.shape=(4,)\n",
      "np_array_1.ndim=1\n",
      "[[1 2 3 4]\n",
      " [2 3 4 5]]\n",
      "np_array_2.shape=(2, 4)\n",
      "np_array_2.ndim=2\n"
     ]
    }
   ],
   "source": [
    "import numpy as np\n",
    "import pandas as pd\n",
    "\n",
    "# np的核心api\n",
    "np_array_1 = np.array([1,2,3,4])\n",
    "print(np_array_1)\n",
    "print('np_array_1.shape=' + str(np_array_1.shape)) \n",
    "print('np_array_1.ndim=' + str(np_array_1.ndim))\n",
    "\n",
    "np_array_2 = np.array([[1,2,3,4],[2,3,4,5]])\n",
    "print(np_array_2)\n",
    "print('np_array_2.shape=' + str(np_array_2.shape)) \n",
    "print('np_array_2.ndim=' + str(np_array_2.ndim))"
   ]
  },
  {
   "cell_type": "code",
   "execution_count": 21,
   "metadata": {},
   "outputs": [
    {
     "name": "stdout",
     "output_type": "stream",
     "text": [
      "[[[-1152921504606846976]]]\n",
      "np_empty_1.shape=(1, 1, 1)\n",
      "np_empty_1.ndim=3\n"
     ]
    }
   ],
   "source": [
    "# 创建空数组\n",
    "np_empty_1 = np.empty([1,1,1],dtype=int)\n",
    "print(np_empty_1)\n",
    "print('np_empty_1.shape='+str(np_empty_1.shape))\n",
    "print('np_empty_1.ndim='+str(np_empty_1.ndim))"
   ]
  },
  {
   "cell_type": "code",
   "execution_count": 25,
   "metadata": {},
   "outputs": [
    {
     "name": "stdout",
     "output_type": "stream",
     "text": [
      "[[[0]]]\n",
      "np_zeros_1.shape=(1, 1, 1)\n",
      "np_zeros_1.ndim=3\n"
     ]
    }
   ],
   "source": [
    "# 创建为0的数组\n",
    "np_zeros_1= np.zeros([1,1,1],dtype=int)\n",
    "print(np_zeros_1)\n",
    "print('np_zeros_1.shape='+str(np_zeros_1.shape))\n",
    "print('np_zeros_1.ndim='+str(np_zeros_1.ndim))"
   ]
  },
  {
   "cell_type": "code",
   "execution_count": 33,
   "metadata": {},
   "outputs": [
    {
     "name": "stdout",
     "output_type": "stream",
     "text": [
      "[0 1 2 3 4 5 6 7 8 9]\n",
      "np_array_3.shape=(10,)\n",
      "np_array_3.ndim=1\n",
      "[[0 1]\n",
      " [2 3]\n",
      " [4 5]\n",
      " [6 7]\n",
      " [8 9]]\n",
      "np_array_4.shape=(5, 2)\n",
      "np_array_4.ndim=2\n",
      "[[0]\n",
      " [1]\n",
      " [2]\n",
      " [3]\n",
      " [4]\n",
      " [5]\n",
      " [6]\n",
      " [7]\n",
      " [8]\n",
      " [9]]\n",
      "np_array_5.shape=(10, 1)\n",
      "np_array_5.ndim=2\n"
     ]
    }
   ],
   "source": [
    "# 数组的常见操作\n",
    "np_array_3 = np.arange(0,10)\n",
    "print(np_array_3)\n",
    "print('np_array_3.shape='+str(np_array_3.shape))\n",
    "print('np_array_3.ndim='+str(np_array_3.ndim))\n",
    "\n",
    "\n",
    "np_array_4 = np_array_3.reshape(5,2)\n",
    "print(np_array_4)\n",
    "print('np_array_4.shape='+str(np_array_4.shape))\n",
    "print('np_array_4.ndim='+str(np_array_4.ndim))\n",
    "\n",
    "\n",
    "np_array_5 = np_array_3.reshape(10,1)\n",
    "print(np_array_5)\n",
    "print('np_array_5.shape='+str(np_array_5.shape))\n",
    "print('np_array_5.ndim='+str(np_array_5.ndim))\n"
   ]
  },
  {
   "cell_type": "code",
   "execution_count": null,
   "metadata": {},
   "outputs": [],
   "source": []
  }
 ],
 "metadata": {
  "kernelspec": {
   "display_name": "Python 3",
   "language": "python",
   "name": "python3"
  },
  "language_info": {
   "codemirror_mode": {
    "name": "ipython",
    "version": 3
   },
   "file_extension": ".py",
   "mimetype": "text/x-python",
   "name": "python",
   "nbconvert_exporter": "python",
   "pygments_lexer": "ipython3",
   "version": "3.8.3"
  }
 },
 "nbformat": 4,
 "nbformat_minor": 4
}
